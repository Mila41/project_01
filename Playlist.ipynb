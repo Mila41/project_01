{
  "nbformat": 4,
  "nbformat_minor": 0,
  "metadata": {
    "colab": {
      "provenance": [],
      "authorship_tag": "ABX9TyOtdOmgvSuYQz8Uhqn9Qa3w",
      "include_colab_link": true
    },
    "kernelspec": {
      "name": "python3",
      "display_name": "Python 3"
    },
    "language_info": {
      "name": "python"
    }
  },
  "cells": [
    {
      "cell_type": "markdown",
      "metadata": {
        "id": "view-in-github",
        "colab_type": "text"
      },
      "source": [
        "<a href=\"https://colab.research.google.com/github/Mila41/project_01/blob/main/Playlist.ipynb\" target=\"_parent\"><img src=\"https://colab.research.google.com/assets/colab-badge.svg\" alt=\"Open In Colab\"/></a>"
      ]
    },
    {
      "cell_type": "code",
      "execution_count": null,
      "metadata": {
        "colab": {
          "base_uri": "https://localhost:8080/"
        },
        "id": "F8-DtmmYlXUt",
        "outputId": "4b0061a0-3116-491b-c519-4a6afcd84415"
      },
      "outputs": [
        {
          "output_type": "stream",
          "name": "stdout",
          "text": [
            "my_favorite_songs = Прошло мгновениеНовое спасениеОстаться в живыхЗаведи меняСвоего рода сказка\n"
          ]
        }
      ],
      "source": [
        "greeting = 'my_favorite_songs = a,b,c,d,e'\n",
        "a = 'Прошло мгновение'\n",
        "b = 'Новое спасение'\n",
        "c = 'Остаться в живых'\n",
        "d = 'Заведи меня'\n",
        "e = 'Своего рода сказка' \n",
        "fvar = greeting[:20]\n",
        "svar = (a + b + c + d + e)\n",
        "greeting[20:29:2]\n",
        "print(fvar + svar)"
      ]
    }
  ]
}